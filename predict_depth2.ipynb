{
 "cells": [
  {
   "cell_type": "code",
   "execution_count": 1,
   "id": "6e680c77-2834-493f-b9c6-7d3db0cce778",
   "metadata": {},
   "outputs": [],
   "source": [
    "# 2枚の異なるfocus画像から奥行きを推定するプログラム\n",
    "import torch\n",
    "import torch.nn as nn\n",
    "import torch.optim as optim\n",
    "import torch.nn.functional as F\n",
    "from torchvision import transforms\n",
    "\n",
    "import glob\n",
    "import pickle \n",
    "import os\n",
    "import random\n",
    "import numpy as np\n",
    "import matplotlib.pyplot as plt\n",
    "\n",
    "from PIL import Image\n",
    "\n",
    "# from tqdm import tqdm  #コマンドラインで実行するとき\n",
    "from tqdm.notebook import tqdm  # jupyter で実行するとき\n",
    "from models import RESNETLIKE, MyModel, MyModel_shallow"
   ]
  },
  {
   "cell_type": "code",
   "execution_count": 2,
   "id": "aee78eaf-51e8-453d-9e29-9804bab5d186",
   "metadata": {},
   "outputs": [
    {
     "name": "stdout",
     "output_type": "stream",
     "text": [
      "cuda:0\n"
     ]
    }
   ],
   "source": [
    "# リソースの指定（CPU/GPU）\n",
    "device = torch.device(\"cuda:0\" if torch.cuda.is_available() else \"cpu\")\n",
    "print(device)"
   ]
  },
  {
   "cell_type": "code",
   "execution_count": 3,
   "id": "ed52afef-b22a-4324-a726-73be6a307304",
   "metadata": {},
   "outputs": [
    {
     "data": {
      "text/plain": [
       "MyModel(\n",
       "  (conv1): Conv2d(2, 64, kernel_size=(5, 5), stride=(2, 2), padding=(1, 1))\n",
       "  (maxpool): MaxPool2d(kernel_size=3, stride=2, padding=0, dilation=1, ceil_mode=False)\n",
       "  (conv21): Conv2d(64, 64, kernel_size=(3, 3), stride=(1, 1), padding=(1, 1))\n",
       "  (conv22): Conv2d(64, 64, kernel_size=(3, 3), stride=(1, 1), padding=(1, 1))\n",
       "  (conv31): Conv2d(64, 128, kernel_size=(3, 3), stride=(1, 1), padding=(1, 1))\n",
       "  (conv32): Conv2d(128, 128, kernel_size=(3, 3), stride=(1, 1), padding=(1, 1))\n",
       "  (conv41): Conv2d(128, 256, kernel_size=(3, 3), stride=(1, 1), padding=(1, 1))\n",
       "  (conv42): Conv2d(256, 256, kernel_size=(3, 3), stride=(1, 1), padding=(1, 1))\n",
       "  (avgpool): AdaptiveAvgPool2d(output_size=(1, 1))\n",
       "  (dropout): Dropout(p=0.5, inplace=False)\n",
       "  (fc1): Linear(in_features=256, out_features=128, bias=True)\n",
       "  (fc2): Linear(in_features=128, out_features=64, bias=True)\n",
       "  (fc3): Linear(in_features=64, out_features=1, bias=True)\n",
       "  (bn64): BatchNorm2d(64, eps=1e-05, momentum=0.1, affine=True, track_running_stats=True)\n",
       "  (bn128): BatchNorm2d(128, eps=1e-05, momentum=0.1, affine=True, track_running_stats=True)\n",
       "  (bn256): BatchNorm2d(256, eps=1e-05, momentum=0.1, affine=True, track_running_stats=True)\n",
       "  (bn512): BatchNorm2d(512, eps=1e-05, momentum=0.1, affine=True, track_running_stats=True)\n",
       ")"
      ]
     },
     "execution_count": 3,
     "metadata": {},
     "output_type": "execute_result"
    }
   ],
   "source": [
    "# モデル・損失関数・最適化アルゴリスムの設定\n",
    "LOAD_WEIGHT = True\n",
    "model = MyModel(channels=2)\n",
    "\n",
    "PSIZE = 65\n",
    "DEPTH_GAP = 100\n",
    "weight_file = f\"weights/weight_{PSIZE}_{DEPTH_GAP}.pth\"\n",
    "#weight_file = f\"weights/weight_11000_16000_{PSIZE}_{DEPTH_GAP}.pth\"\n",
    "\n",
    "if LOAD_WEIGHT == True:\n",
    "    # 学習済みモデルのロード\n",
    "    model.load_state_dict(torch.load(weight_file))\n",
    "    model.eval()\n",
    "\n",
    "model = model.to(device)\n",
    "model.eval()"
   ]
  },
  {
   "cell_type": "code",
   "execution_count": 15,
   "id": "1f6d44b5-accc-4c1e-89a0-6e9461c2ae04",
   "metadata": {},
   "outputs": [],
   "source": [
    "# 画像ペアから奥行きを推定するdataloader\n",
    "class PTSDepthEstimateData(torch.utils.data.Dataset):\n",
    "    # FILEはデータが入っていたファイル、imsize = 画像サイズ、psize = パッチサイズ\n",
    "    def __init__(self,DIR,imsize,psize,channels,pt,transforms):\n",
    "        \n",
    "        self.DIR = DIR\n",
    "        self.psize = psize\n",
    "        self.channels = channels\n",
    "        self.transforms = transforms\n",
    "\n",
    "        self.files = glob.glob(os.path.join(DIR,'[0-9]*.bmp'))\n",
    "        fvalues = []\n",
    "        for fn in self.files:\n",
    "            fvalues.append(int(os.path.splitext(os.path.basename(fn))[0]))\n",
    "\n",
    "        # self fvaluesを作る. self.fvaluesにはフォーカスのペアが入る\n",
    "        self.fvalues = []\n",
    "        for f in fvalues:\n",
    "            if f+DEPTH_GAP*50 in fvalues:\n",
    "                self.fvalues.append([f,f+DEPTH_GAP*50])\n",
    "                #print(\"focus pair\", f, f+DEPTH_GAP*50)\n",
    "\n",
    "        # ターゲットポイント\n",
    "        self.pt = pt\n",
    "        \n",
    "        # ground truth depthを読み込む\n",
    "        with open(os.path.join(DIR,'depth.pkl'),\"rb\") as f:\n",
    "            self.gt = pickle.load(f)\n",
    "        \n",
    "        if self.gt is None:\n",
    "            print('cannot find ', os.path.join(DIR,'depth.pkl'))\n",
    "            return None\n",
    "    \n",
    "    def __len__(self):\n",
    "        return len(self.fvalues)\n",
    "\n",
    "    def __getitem__(self, index):\n",
    "\n",
    "        imgs = []\n",
    "                \n",
    "        FILE1 = os.path.join(self.DIR,f'{self.fvalues[index][0]:04d}.bmp')\n",
    "        FILE2 = os.path.join(self.DIR,f'{self.fvalues[index][1]:04d}.bmp')\n",
    "        x = self.pt[0]\n",
    "        y = self.pt[1]\n",
    "\n",
    "        img = Image.open(FILE1)\n",
    "        img = img.crop((x, y, x+self.psize, y+self.psize))\n",
    "        img = img.convert('L')\n",
    "        img = np.array(img)\n",
    "        img = np.array(img).astype('float32')\n",
    "        imgs.append(img)\n",
    "\n",
    "        img = Image.open(FILE2)\n",
    "        img = img.crop((x, y, x+self.psize, y+self.psize))\n",
    "        img = img.convert('L')\n",
    "        img = np.array(img)\n",
    "        img = np.array(img).astype('float32')\n",
    "        imgs.append(img)\n",
    "        \n",
    "        out = np.stack(imgs,axis=2)\n",
    "        val = self.fvalues[index][0]\n",
    "        # print(val, self.gt[y,x], self.gt[y,x] - val)\n",
    "        \n",
    "        return self.transforms(out), (self.gt[y,x]-val)"
   ]
  },
  {
   "cell_type": "code",
   "execution_count": 36,
   "id": "12b76f1b-3a8b-45c4-a5e3-a4141420f3ad",
   "metadata": {},
   "outputs": [],
   "source": [
    "# 対象となる画像データを読み出す (2 files)\n",
    "DIR = \"data/202410080819/\"\n",
    "#DIR = \"data/202410080834/\"\n",
    "\n",
    "psize = 65\n",
    "width = 1600\n",
    "height = 1200\n",
    "x = 800\n",
    "y = 600\n",
    "imgs = []\n",
    "\n",
    "trans = transforms.Compose([\n",
    "    transforms.ToTensor()\n",
    "])\n",
    "\n",
    "dataset = PTSDepthEstimateData(DIR, imsize=(width,height), psize=psize, channels=2, pt=(x,y), transforms=trans) \n",
    "# データローダーの作成\n",
    "dataloader = torch.utils.data.DataLoader(dataset, batch_size=512, shuffle=False)"
   ]
  },
  {
   "cell_type": "code",
   "execution_count": 37,
   "id": "092efaf2-7085-4855-9151-aebfc128e0a3",
   "metadata": {},
   "outputs": [],
   "source": [
    "outputs = []\n",
    "gt = []\n",
    "\n",
    "for data,loc in dataloader:\n",
    "    # print(loc)\n",
    "    data = data.to(device)\n",
    "    output = model(data).detach().cpu().numpy()\n",
    "    outputs.append(output)\n",
    "    gt.append(loc.detach().cpu().numpy())\n",
    "    #gt.append(loc[0] - loc[1])"
   ]
  },
  {
   "cell_type": "code",
   "execution_count": 38,
   "id": "8309e823-adc9-4636-8611-9bb1079d2472",
   "metadata": {},
   "outputs": [],
   "source": [
    "import matplotlib.pyplot as plt\n",
    "%matplotlib inline"
   ]
  },
  {
   "cell_type": "code",
   "execution_count": 39,
   "id": "99fd5da1-69ee-4738-96cb-ee06872cfdc5",
   "metadata": {},
   "outputs": [
    {
     "data": {
      "image/png": "[encoded data removed]",
      "text/plain": [
       "<Figure size 640x480 with 1 Axes>"
      ]
     },
     "metadata": {},
     "output_type": "display_data"
    }
   ],
   "source": [
    "output = np.concatenate(outputs)\n",
    "gt = np.concatenate(gt)\n",
    "plt.plot(output)\n",
    "plt.plot(gt)\n",
    "plt.show()"
   ]
  },
  {
   "cell_type": "code",
   "execution_count": null,
   "id": "b6734f3c-2737-48ec-91f7-7a27fd6f833c",
   "metadata": {},
   "outputs": [],
   "source": []
  }
 ],
 "metadata": {
  "kernelspec": {
   "display_name": "Python 3 (ipykernel)",
   "language": "python",
   "name": "python3"
  },
  "language_info": {
   "codemirror_mode": {
    "name": "ipython",
    "version": 3
   },
   "file_extension": ".py",
   "mimetype": "text/x-python",
   "name": "python",
   "nbconvert_exporter": "python",
   "pygments_lexer": "ipython3",
   "version": "3.12.6"
  }
 },
 "nbformat": 4,
 "nbformat_minor": 5
}
