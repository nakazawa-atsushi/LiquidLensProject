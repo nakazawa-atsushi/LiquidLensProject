{
 "cells": [
  {
   "cell_type": "code",
   "execution_count": 16,
   "id": "f093836e-d3a6-4ee8-84f6-42d74d2939ab",
   "metadata": {},
   "outputs": [],
   "source": [
    "# referenced from https://qiita.com/takubb/items/7d45ae701390912c7629\n",
    "import torch\n",
    "import torch.nn as nn\n",
    "import torch.optim as optim\n",
    "import torch.nn.functional as F\n",
    "from torchvision import transforms\n",
    "\n",
    "import os\n",
    "import random\n",
    "import glob\n",
    "import numpy as np\n",
    "import matplotlib.pyplot as plt\n",
    "import cv2\n",
    "import pickle\n",
    "\n",
    "from PIL import Image\n",
    "\n",
    "# from tqdm import tqdm  #コマンドラインで実行するとき\n",
    "from tqdm.notebook import tqdm  # jupyter で実行するとき\n",
    "from models import RESNETLIKE, MyModel, MyModel_shallow"
   ]
  },
  {
   "cell_type": "code",
   "execution_count": 17,
   "id": "7561b123-cceb-4a89-b560-2314dc46ed72",
   "metadata": {},
   "outputs": [],
   "source": [
    "# リソースの指定（CPU/GPU）\n",
    "device = torch.device(\"cuda:0\" if torch.cuda.is_available() else \"cpu\")"
   ]
  },
  {
   "cell_type": "code",
   "execution_count": 18,
   "id": "72020d7e-7827-401f-b3f4-b9ab250a9a51",
   "metadata": {},
   "outputs": [],
   "source": [
    "# データセットの作成\n",
    "trans = transforms.Compose([\n",
    "    transforms.ToTensor()\n",
    "])\n",
    "\n",
    "class FocusPatchDataset(torch.utils.data.Dataset):\n",
    "    # FILEはデータが入っていたファイル、imsize = 画像サイズ、psize = パッチサイズ\n",
    "    def __init__(self, DIR, imsize, psize, channels, DEPTH_GAP, n_sample, transforms):\n",
    "        \n",
    "        # ground truth depthを読み込むdd\n",
    "        with open(os.path.join(DIR,'depth.pkl'),\"rb\") as f:\n",
    "            self.gt = pickle.load(f)\n",
    "        \n",
    "        if self.gt is None:\n",
    "            print('cannot find ', os.path.join(DIR,'depth.pkl'))\n",
    "            return None\n",
    "        \n",
    "        self.files = glob.glob(os.path.join(DIR,'[0-9]*.bmp'))\n",
    "        # print(self.files)\n",
    "        self.fvalues = []\n",
    "        for fn in self.files:\n",
    "            self.fvalues.append(int(os.path.splitext(os.path.basename(fn))[0]))\n",
    "        self.fvalues.sort()\n",
    "        \n",
    "        self.DIR = DIR\n",
    "        self.DEPTH_GAP = DEPTH_GAP\n",
    "        self.psize = psize\n",
    "        self.channels = channels\n",
    "        self.transforms = transforms\n",
    "        self.n_sample = n_sample\n",
    "\n",
    "        self.imsize = imsize\n",
    "        self.psize = psize\n",
    "        self.locs = []\n",
    "\n",
    "        # サンプル対象となる点を設定する\n",
    "        w = imsize[0]\n",
    "        h = imsize[1]        \n",
    "        for i in range(self.n_sample):\n",
    "            xx = random.randint(0,w-self.psize-1)\n",
    "            yy = random.randint(0,h-self.psize-1)\n",
    "            self.locs.append([xx,yy])\n",
    "\n",
    "        print('locations', self.locs)\n",
    "    \n",
    "    def __len__(self):\n",
    "        length = (len(self.fvalues) - self.DEPTH_GAP)*self.n_sample\n",
    "        return length\n",
    "\n",
    "    def __getitem__(self, index):\n",
    "        imgs = []\n",
    "\n",
    "        # n: file (data) index, m: point index\n",
    "        n = index // self.n_sample\n",
    "        m = index % self.n_sample\n",
    "\n",
    "        x = self.locs[m][0]\n",
    "        y = self.locs[m][1]\n",
    "        \n",
    "        val = float(self.gt[y,x]) - float(self.fvalues[n])\n",
    "\n",
    "        FILE1 = os.path.join(self.DIR,f'{self.fvalues[n]:04d}.bmp')\n",
    "        FILE2 = os.path.join(self.DIR,f'{self.fvalues[n+self.DEPTH_GAP]:04d}.bmp')\n",
    "\n",
    "        # print(self.gt[y,x], self.fvalues[n], val, FILE1, FILE2, x, y)\n",
    "        \n",
    "        img = Image.open(FILE1)\n",
    "        img = img.crop((x, y, x+self.psize, y+self.psize))\n",
    "        img = img.convert('L')\n",
    "        img = np.array(img)\n",
    "        img = np.array(img).astype('float32')\n",
    "        imgs.append(img)\n",
    "\n",
    "        img = Image.open(FILE2)\n",
    "        img = img.crop((x, y, x+self.psize, y+self.psize))\n",
    "        img = img.convert('L')\n",
    "        img = np.array(img)\n",
    "        img = np.array(img).astype('float32')\n",
    "        imgs.append(img)\n",
    "        \n",
    "        out = np.stack(imgs,axis=2)\n",
    "        #print(out.shape)\n",
    "        \n",
    "        return self.transforms(out), val"
   ]
  },
  {
   "cell_type": "code",
   "execution_count": 19,
   "id": "e0502b77-4642-461a-9018-8e1aca510e4c",
   "metadata": {},
   "outputs": [
    {
     "name": "stdout",
     "output_type": "stream",
     "text": [
      "locations [[1162, 654], [616, 222], [311, 727], [1208, 149], [879, 227], [1482, 293], [343, 203], [46, 639], [228, 88], [977, 432], [727, 521], [1227, 836], [985, 34], [87, 617], [1360, 425], [708, 781], [1389, 51], [630, 786], [646, 533], [1322, 583]]\n"
     ]
    }
   ],
   "source": [
    "PSIZE = 65\n",
    "DEPTH_GAP = 100\n",
    "N_SAMPLE = 20\n",
    "dataset = FocusPatchDataset(DIR = 'data/202410080808', imsize = [1600,1200], \n",
    "                            psize=PSIZE, channels=2, n_sample=N_SAMPLE, \n",
    "                            DEPTH_GAP=DEPTH_GAP, transforms = trans)"
   ]
  },
  {
   "cell_type": "code",
   "execution_count": 20,
   "id": "f141bb8e-defd-4e71-a237-c20380276d63",
   "metadata": {},
   "outputs": [
    {
     "data": {
      "text/plain": [
       "6020"
      ]
     },
     "execution_count": 20,
     "metadata": {},
     "output_type": "execute_result"
    }
   ],
   "source": [
    "train_set, test_set = torch.utils.data.random_split(dataset, [0.7,0.3])\n",
    "len(dataset)"
   ]
  },
  {
   "cell_type": "code",
   "execution_count": 21,
   "id": "778f5fdb-d8c1-4f5b-8b88-7da4d1144696",
   "metadata": {},
   "outputs": [],
   "source": [
    "# データローダーの作成\n",
    "train_loader = torch.utils.data.DataLoader(train_set,\n",
    "                                           batch_size=256,  # バッチサイズ\n",
    "                                           shuffle=True,  # データシャッフル\n",
    "                                           num_workers=0,  # 高速化\n",
    "                                           pin_memory=True  # 高速化                                      \n",
    "                                           )\n",
    "test_loader = torch.utils.data.DataLoader(test_set,\n",
    "                                          batch_size=256,\n",
    "                                          shuffle=True,\n",
    "                                          num_workers=0,  # 高速化\n",
    "                                          pin_memory=True  # 高速化                                                   \n",
    "                                          )"
   ]
  },
  {
   "cell_type": "code",
   "execution_count": 23,
   "id": "97bedb9b-4a0c-42e9-bfcd-f9a92ce76324",
   "metadata": {},
   "outputs": [
    {
     "name": "stdout",
     "output_type": "stream",
     "text": [
      "load weight weights/weight_65_100.pth\n"
     ]
    }
   ],
   "source": [
    "# モデル・損失関数・最適化アルゴリスムの設定\n",
    "LOAD_WEIGHT = True\n",
    "# model = RESNETLIKE(channels=2).to(device)\n",
    "model = MyModel(channels=2)\n",
    "#model = MyModel_shallow(channels=2).to(device)\n",
    "weight_file = f\"weights/weight_{PSIZE}_{DEPTH_GAP}.pth\"\n",
    "\n",
    "if LOAD_WEIGHT == True:\n",
    "    # 学習済みモデルのロード\n",
    "    print(\"load weight\", weight_file)\n",
    "    model.load_state_dict(torch.load(weight_file))\n",
    "    model.eval()\n",
    "\n",
    "model = model.to(device)\n",
    "\n",
    "criterion = nn.L1Loss()\n",
    "optimizer = optim.Adam(model.parameters())\n",
    "#optimizer = optim.SGD(model.parameters())"
   ]
  },
  {
   "cell_type": "code",
   "execution_count": 24,
   "id": "8bb9093f-e719-40d6-ac97-d7b68864510a",
   "metadata": {},
   "outputs": [],
   "source": [
    "# モデル訓練関数\n",
    "def train_model(model, train_loader, test_loader):\n",
    "    # Train loop ----------------------------\n",
    "    model.train()  # 学習モードをオン\n",
    "    train_batch_loss = []\n",
    "    for data, val in train_loader:\n",
    "        # GPUへの転送\n",
    "        data, val = data.to(device), val.to(device)\n",
    "        # 1. 勾配リセット\n",
    "        optimizer.zero_grad()\n",
    "        # 2. 推論\n",
    "        output = model(data)\n",
    "        val = val.unsqueeze(1).to(torch.float32)\n",
    "        # 3. 誤差計算\n",
    "        loss = criterion(output, val)\n",
    "        # 4. 誤差逆伝播\n",
    "        loss.backward()\n",
    "        # 5. パラメータ更新\n",
    "        optimizer.step()\n",
    "        # train_lossの取得\n",
    "        train_batch_loss.append(loss.item())\n",
    "\n",
    "    # Test(val) loop ----------------------------\n",
    "    model.eval()  # 学習モードをオフ\n",
    "    test_batch_loss = []\n",
    "    with torch.no_grad():  # 勾配を計算なし\n",
    "        for data, val in test_loader:\n",
    "            data, val = data.to(device), val.to(device)\n",
    "            output = model(data)\n",
    "            val = val.unsqueeze(1).to(torch.float32)\n",
    "            loss = criterion(output, val)\n",
    "            test_batch_loss.append(loss.item())\n",
    "\n",
    "    return model, np.mean(train_batch_loss), np.mean(test_batch_loss)"
   ]
  },
  {
   "cell_type": "code",
   "execution_count": 25,
   "id": "f254e70f-c4ea-4905-aa17-d81055e9031c",
   "metadata": {},
   "outputs": [
    {
     "data": {
      "application/vnd.jupyter.widget-view+json": {
       "model_id": "3a87477b5aa44ccd8fed12c36e3f2504",
       "version_major": 2,
       "version_minor": 0
      },
      "text/plain": [
       "  0%|          | 0/50 [00:00<?, ?it/s]"
      ]
     },
     "metadata": {},
     "output_type": "display_data"
    },
    {
     "name": "stdout",
     "output_type": "stream",
     "text": [
      "Train loss: 2163.555, Test loss: 1648.547\n",
      "Train loss: 1154.421, Test loss: 1004.862\n",
      "Train loss: 795.280, Test loss: 903.467\n",
      "Train loss: 636.372, Test loss: 695.728\n",
      "Train loss: 513.821, Test loss: 491.732\n",
      "Train loss: 399.298, Test loss: 373.327\n",
      "Train loss: 307.471, Test loss: 437.278\n",
      "Train loss: 281.076, Test loss: 335.368\n",
      "Train loss: 272.527, Test loss: 316.287\n",
      "Train loss: 234.756, Test loss: 241.024\n",
      "Train loss: 203.781, Test loss: 243.013\n",
      "Train loss: 216.145, Test loss: 220.142\n",
      "Train loss: 185.996, Test loss: 209.304\n",
      "Train loss: 183.019, Test loss: 190.299\n",
      "Train loss: 170.309, Test loss: 209.475\n",
      "Train loss: 173.911, Test loss: 210.946\n",
      "Train loss: 187.938, Test loss: 239.391\n",
      "Train loss: 158.495, Test loss: 197.263\n",
      "Train loss: 137.321, Test loss: 152.418\n",
      "Train loss: 139.506, Test loss: 257.908\n",
      "Train loss: 184.723, Test loss: 184.824\n",
      "Train loss: 144.217, Test loss: 166.214\n",
      "Train loss: 126.705, Test loss: 155.962\n",
      "Train loss: 141.906, Test loss: 208.659\n",
      "Train loss: 145.859, Test loss: 156.045\n",
      "Train loss: 136.834, Test loss: 164.183\n",
      "Train loss: 122.134, Test loss: 174.612\n",
      "Train loss: 143.532, Test loss: 168.514\n",
      "Train loss: 143.502, Test loss: 237.607\n",
      "Train loss: 151.920, Test loss: 164.089\n",
      "Train loss: 128.558, Test loss: 162.501\n",
      "Train loss: 117.010, Test loss: 135.189\n",
      "Train loss: 109.266, Test loss: 185.123\n",
      "Train loss: 154.205, Test loss: 143.341\n",
      "Train loss: 114.022, Test loss: 159.449\n",
      "Train loss: 122.062, Test loss: 160.943\n",
      "Train loss: 118.143, Test loss: 155.858\n",
      "Train loss: 109.857, Test loss: 140.089\n",
      "Train loss: 97.394, Test loss: 134.245\n",
      "Train loss: 107.108, Test loss: 137.407\n",
      "Train loss: 104.608, Test loss: 162.894\n",
      "Train loss: 108.119, Test loss: 150.657\n",
      "Train loss: 117.109, Test loss: 168.231\n",
      "Train loss: 116.203, Test loss: 141.215\n",
      "Train loss: 113.971, Test loss: 152.443\n",
      "Train loss: 129.185, Test loss: 178.917\n",
      "Train loss: 123.338, Test loss: 169.453\n",
      "Train loss: 101.585, Test loss: 135.810\n",
      "Train loss: 95.161, Test loss: 149.140\n",
      "Train loss: 107.864, Test loss: 138.441\n"
     ]
    },
    {
     "data": {
      "text/plain": [
       "<matplotlib.legend.Legend at 0x1e312479280>"
      ]
     },
     "execution_count": 25,
     "metadata": {},
     "output_type": "execute_result"
    },
    {
     "data": {
      "image/png": "[encoded data removed]",
      "text/plain": [
       "<Figure size 640x480 with 1 Axes>"
      ]
     },
     "metadata": {},
     "output_type": "display_data"
    }
   ],
   "source": [
    "# 訓練の実行\n",
    "epoch = 50\n",
    "train_loss = []\n",
    "test_loss = []\n",
    "\n",
    "for epoch in tqdm(range(epoch)):\n",
    "    model, train_l, test_l = train_model(model,train_loader,test_loader)\n",
    "    train_loss.append(train_l)\n",
    "    test_loss.append(test_l)    \n",
    "    # 10エポックごとにロスを表示\n",
    "    #if epoch % 5 == 0:\n",
    "    print(f\"Train loss: {train_loss[-1]:.3f}, Test loss: {test_loss[-1]:.3f}\")\n",
    "\n",
    "# 学習状況（ロス）の確認\n",
    "plt.plot(train_loss, label='train_loss')\n",
    "plt.plot(test_loss, label='test_loss')\n",
    "plt.legend()"
   ]
  },
  {
   "cell_type": "code",
   "execution_count": 15,
   "id": "1aa840ff-af69-4657-8b47-7a1c65f0b6d9",
   "metadata": {},
   "outputs": [],
   "source": [
    "# モデルの保存\n",
    "torch.save(model.state_dict(), weight_file)"
   ]
  },
  {
   "cell_type": "code",
   "execution_count": 12,
   "id": "7c57166c-8ce5-443c-85bf-692fbb694af4",
   "metadata": {},
   "outputs": [
    {
     "name": "stdout",
     "output_type": "stream",
     "text": [
      "locations [[456, 575], [164, 193], [441, 361], [272, 362], [728, 420], [617, 330], [389, 121], [951, 350], [1130, 448], [48, 159], [986, 727], [1430, 211], [1369, 985], [81, 98], [974, 587], [1327, 872], [1386, 594], [1365, 886], [407, 258], [1286, 735], [158, 637], [551, 291], [1183, 722], [977, 227], [888, 108], [509, 181], [244, 372], [955, 714], [1203, 119], [1451, 723], [1000, 978], [1392, 236], [1247, 837], [1115, 123], [450, 252], [118, 919], [549, 560], [1127, 53], [689, 120], [549, 373], [713, 741], [1489, 465], [967, 819], [533, 150], [847, 944], [711, 761], [113, 764], [191, 535], [547, 529], [1138, 104], [1086, 676], [678, 765], [833, 546], [569, 1074], [1278, 171], [227, 620], [1521, 1124], [55, 393], [1425, 907], [1350, 221], [1114, 428], [1512, 960], [902, 1017], [1361, 778], [783, 733], [153, 852], [1247, 908], [1247, 42], [86, 979], [1498, 414], [709, 116], [338, 489], [672, 367], [772, 160], [245, 1025], [551, 433], [1084, 732], [819, 617], [371, 845], [1049, 774], [127, 318], [1037, 963], [1088, 107], [345, 273], [295, 1118], [1343, 1048], [861, 879], [1086, 92], [360, 1083], [548, 950], [103, 984], [346, 870], [101, 1002], [533, 1067], [1112, 1002], [1259, 510], [272, 1085], [1338, 993], [1355, 1000], [520, 608], [635, 202], [715, 516], [907, 229], [955, 48], [1432, 27], [667, 762], [1250, 60], [155, 866], [436, 1096], [401, 526], [446, 253], [1289, 344], [1313, 876], [7, 1004], [270, 922], [362, 144], [1515, 153], [1304, 214], [1209, 191], [949, 995], [559, 236], [547, 796], [248, 161], [687, 287], [595, 489], [1107, 206], [859, 542], [1267, 134], [690, 453], [80, 1112], [822, 1013], [135, 18], [174, 196], [1442, 1086], [114, 527], [467, 557], [731, 494], [51, 640], [845, 683], [629, 1085], [1067, 2], [624, 733], [952, 93], [698, 63], [532, 685], [914, 871], [1155, 258], [516, 464], [724, 277], [13, 114], [899, 303], [389, 506], [97, 63], [30, 714], [96, 597], [441, 156], [208, 275], [1016, 653], [410, 244], [1154, 43], [444, 359], [1247, 648], [1120, 285], [1173, 1063], [437, 146], [65, 906], [1288, 127], [615, 857], [1079, 1074], [1268, 929], [55, 191], [1490, 741], [650, 245], [170, 655], [721, 894], [805, 270], [857, 288], [586, 72], [450, 889], [1192, 534], [391, 569], [1501, 194], [12, 247], [124, 937], [1352, 216], [351, 43], [138, 879], [356, 693], [757, 16], [1411, 216], [160, 63], [109, 660], [652, 556], [496, 611], [926, 1016], [991, 904], [475, 1027], [1442, 317], [1461, 207], [364, 942]]\n"
     ]
    }
   ],
   "source": [
    "# 学習済みモデルから予測結果と正解値を取得\n",
    "def retrieve_result(model, dataloader):\n",
    "    model.eval()\n",
    "    preds = []\n",
    "    labels = []\n",
    "    # Retreive prediction and labels\n",
    "    with torch.no_grad():\n",
    "        for data, label in dataloader:\n",
    "            data, label = data.to(device), label.to(device)\n",
    "            output = model(data)\n",
    "            # Collect data\n",
    "            preds.append(output)\n",
    "            labels.append(label)\n",
    "    # Flatten\n",
    "    preds = torch.cat(preds, axis=0)\n",
    "    labels = torch.cat(labels, axis=0)\n",
    "    # Returns as numpy (CPU環境の場合は不要)\n",
    "    preds = preds.cpu().detach().numpy()\n",
    "    labels = labels.cpu().detach().numpy()\n",
    "    return preds, labels\n",
    "\n",
    "\n",
    "# データを作って評価してみる\n",
    "dataset = FocusPatchDataset(DIR = 'data/202410041747-new', imsize = [1600,1200], \n",
    "                            psize=PSIZE, channels=2, n_sample=1, \n",
    "                            DEPTH_GAP=DEPTH_GAP, transforms = trans)\n",
    "test_loader = torch.utils.data.DataLoader(dataset, batch_size=256, shuffle=False)\n",
    "preds, labels = retrieve_result(model, test_loader)"
   ]
  },
  {
   "cell_type": "code",
   "execution_count": 14,
   "id": "fb2ca7e9-89c2-4ac7-b26f-74d4e1f40959",
   "metadata": {},
   "outputs": [
    {
     "data": {
      "text/plain": [
       "<matplotlib.legend.Legend at 0x1cf90702ea0>"
      ]
     },
     "execution_count": 14,
     "metadata": {},
     "output_type": "execute_result"
    },
    {
     "data": {
      "image/png": "[encoded data removed]",
      "text/plain": [
       "<Figure size 640x480 with 1 Axes>"
      ]
     },
     "metadata": {},
     "output_type": "display_data"
    }
   ],
   "source": [
    "#for x,y in zip(preds,labels):\n",
    "#    print(x,y,abs(x-y))\n",
    "plt.plot(preds, label=\"prediction\")\n",
    "plt.plot(labels, label='ground truth')\n",
    "plt.legend()"
   ]
  },
  {
   "cell_type": "code",
   "execution_count": null,
   "id": "f751e122-6027-446f-9312-974abd85e2b7",
   "metadata": {},
   "outputs": [],
   "source": []
  }
 ],
 "metadata": {
  "kernelspec": {
   "display_name": "Python 3 (ipykernel)",
   "language": "python",
   "name": "python3"
  },
  "language_info": {
   "codemirror_mode": {
    "name": "ipython",
    "version": 3
   },
   "file_extension": ".py",
   "mimetype": "text/x-python",
   "name": "python",
   "nbconvert_exporter": "python",
   "pygments_lexer": "ipython3",
   "version": "3.12.6"
  }
 },
 "nbformat": 4,
 "nbformat_minor": 5
}
