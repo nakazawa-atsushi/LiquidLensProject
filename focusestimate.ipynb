{
 "cells": [
  {
   "cell_type": "code",
   "execution_count": 1,
   "id": "f093836e-d3a6-4ee8-84f6-42d74d2939ab",
   "metadata": {},
   "outputs": [],
   "source": [
    "# referenced from https://qiita.com/takubb/items/7d45ae701390912c7629\n",
    "import torch\n",
    "import torch.nn as nn\n",
    "import torch.optim as optim\n",
    "import torch.nn.functional as F\n",
    "from torchvision import transforms\n",
    "\n",
    "from torch.utils.data import DataLoader, ConcatDataset\n",
    "\n",
    "import os\n",
    "import random\n",
    "import glob\n",
    "import numpy as np\n",
    "import matplotlib.pyplot as plt\n",
    "import cv2\n",
    "import pickle\n",
    "\n",
    "from PIL import Image\n",
    "\n",
    "# from tqdm import tqdm  #コマンドラインで実行するとき\n",
    "from tqdm.notebook import tqdm  # jupyter で実行するとき\n",
    "from models import RESNETLIKE, MyModel, MyModel_shallow"
   ]
  },
  {
   "cell_type": "code",
   "execution_count": 2,
   "id": "7561b123-cceb-4a89-b560-2314dc46ed72",
   "metadata": {},
   "outputs": [],
   "source": [
    "# リソースの指定（CPU/GPU）\n",
    "device = torch.device(\"cuda:0\" if torch.cuda.is_available() else \"cpu\")"
   ]
  },
  {
   "cell_type": "code",
   "execution_count": 3,
   "id": "72020d7e-7827-401f-b3f4-b9ab250a9a51",
   "metadata": {},
   "outputs": [],
   "source": [
    "# データセットの作成\n",
    "trans = transforms.Compose([\n",
    "    transforms.ToTensor()\n",
    "])\n",
    "\n",
    "class FocusPatchDataset(torch.utils.data.Dataset):\n",
    "    # FILEはデータが入っていたファイル、imsize = 画像サイズ、psize = パッチサイズ\n",
    "    def __init__(self, DIR, imsize, psize, channels, DEPTH_GAP, n_sample, transforms):\n",
    "        \n",
    "        # ground truth depthを読み込むdd\n",
    "        with open(os.path.join(DIR,'depth.pkl'),\"rb\") as f:\n",
    "            self.gt = pickle.load(f)\n",
    "        \n",
    "        if self.gt is None:\n",
    "            print('cannot find ', os.path.join(DIR,'depth.pkl'))\n",
    "            return None\n",
    "        \n",
    "        self.files = glob.glob(os.path.join(DIR,'[0-9]*.bmp'))\n",
    "        # print(self.files)\n",
    "        self.fvalues = []\n",
    "        for fn in self.files:\n",
    "            self.fvalues.append(int(os.path.splitext(os.path.basename(fn))[0]))\n",
    "        self.fvalues.sort()\n",
    "        \n",
    "        self.DIR = DIR\n",
    "        self.DEPTH_GAP = DEPTH_GAP\n",
    "        self.psize = psize\n",
    "        self.channels = channels\n",
    "        self.transforms = transforms\n",
    "        self.n_sample = n_sample\n",
    "\n",
    "        self.imsize = imsize\n",
    "        self.psize = psize\n",
    "        self.locs = []\n",
    "\n",
    "        # サンプル対象となる点を設定する\n",
    "        w = imsize[0]\n",
    "        h = imsize[1]        \n",
    "        for i in range(self.n_sample):\n",
    "            xx = random.randint(0,w-self.psize-1)\n",
    "            yy = random.randint(0,h-self.psize-1)\n",
    "            self.locs.append([xx,yy])\n",
    "\n",
    "        print('locations', self.locs)\n",
    "    \n",
    "    def __len__(self):\n",
    "        length = (len(self.fvalues) - self.DEPTH_GAP)*self.n_sample\n",
    "        return length\n",
    "\n",
    "    def __getitem__(self, index):\n",
    "        imgs = []\n",
    "\n",
    "        # n: file (data) index, m: point index\n",
    "        n = index // self.n_sample\n",
    "        m = index % self.n_sample\n",
    "\n",
    "        x = self.locs[m][0]\n",
    "        y = self.locs[m][1]\n",
    "        \n",
    "        val = float(self.gt[y,x]) - float(self.fvalues[n])\n",
    "\n",
    "        FILE1 = os.path.join(self.DIR,f'{self.fvalues[n]:04d}.bmp')\n",
    "        FILE2 = os.path.join(self.DIR,f'{self.fvalues[n+self.DEPTH_GAP]:04d}.bmp')\n",
    "\n",
    "        # print(self.gt[y,x], self.fvalues[n], val, FILE1, FILE2, x, y)\n",
    "        \n",
    "        img = Image.open(FILE1)\n",
    "        img = img.crop((x, y, x+self.psize, y+self.psize))\n",
    "        img = img.convert('L')\n",
    "        img = np.array(img)\n",
    "        img = np.array(img).astype('float32')\n",
    "        imgs.append(img)\n",
    "\n",
    "        img = Image.open(FILE2)\n",
    "        img = img.crop((x, y, x+self.psize, y+self.psize))\n",
    "        img = img.convert('L')\n",
    "        img = np.array(img)\n",
    "        img = np.array(img).astype('float32')\n",
    "        imgs.append(img)\n",
    "        \n",
    "        out = np.stack(imgs,axis=2)\n",
    "        #print(out.shape)\n",
    "        \n",
    "        return self.transforms(out), val"
   ]
  },
  {
   "cell_type": "code",
   "execution_count": 4,
   "id": "e0502b77-4642-461a-9018-8e1aca510e4c",
   "metadata": {},
   "outputs": [
    {
     "name": "stdout",
     "output_type": "stream",
     "text": [
      "locations [[1285, 152], [502, 450], [994, 453], [118, 590], [1345, 117], [358, 124], [84, 882], [474, 172], [634, 165], [333, 42], [487, 752], [475, 752], [313, 366], [253, 328], [1412, 590], [1381, 510], [1390, 77], [1390, 24], [942, 959], [761, 301]]\n",
      "locations [[290, 535], [736, 447], [673, 660], [888, 570], [888, 1064], [1423, 921], [1058, 811], [1190, 1066], [96, 97], [605, 489], [0, 485], [1005, 677], [271, 201], [612, 123], [560, 496], [72, 237], [109, 473], [1384, 778], [4, 312], [94, 96]]\n",
      "locations [[1230, 264], [1201, 847], [868, 784], [474, 134], [1287, 990], [1418, 339], [829, 146], [667, 983], [288, 307], [508, 549], [1305, 1082], [348, 441], [1132, 41], [1244, 505], [89, 645], [1471, 281], [1387, 333], [256, 51], [890, 666], [208, 17]]\n",
      "locations [[727, 860], [626, 1009], [341, 941], [900, 1113], [961, 735], [1416, 432], [590, 703], [675, 207], [773, 1121], [70, 15], [95, 49], [615, 792], [1242, 1110], [1000, 948], [171, 738], [654, 857], [696, 135], [1444, 133], [1104, 544], [734, 1056]]\n"
     ]
    }
   ],
   "source": [
    "PSIZE = 65\n",
    "DEPTH_GAP = 100\n",
    "N_SAMPLE = 20\n",
    "\n",
    "# merge several dataset together\n",
    "dataset1 = FocusPatchDataset(DIR = 'data/202410041703', imsize = [1600,1200], \n",
    "                            psize=PSIZE, channels=2, n_sample=N_SAMPLE, \n",
    "                            DEPTH_GAP=DEPTH_GAP, transforms = trans)\n",
    "dataset2 = FocusPatchDataset(DIR = 'data/202410041747', imsize = [1600,1200], \n",
    "                            psize=PSIZE, channels=2, n_sample=N_SAMPLE, \n",
    "                            DEPTH_GAP=DEPTH_GAP, transforms = trans)\n",
    "dataset3 = FocusPatchDataset(DIR = 'data/202410080808', imsize = [1600,1200], \n",
    "                            psize=PSIZE, channels=2, n_sample=N_SAMPLE, \n",
    "                            DEPTH_GAP=DEPTH_GAP, transforms = trans)\n",
    "dataset4= FocusPatchDataset(DIR = 'data/202410080819', imsize = [1600,1200], \n",
    "                            psize=PSIZE, channels=2, n_sample=N_SAMPLE, \n",
    "                            DEPTH_GAP=DEPTH_GAP, transforms = trans)\n",
    "\n",
    "dataset = torch.utils.data.ConcatDataset([dataset1,dataset2,dataset3,dataset4])"
   ]
  },
  {
   "cell_type": "code",
   "execution_count": 5,
   "id": "f141bb8e-defd-4e71-a237-c20380276d63",
   "metadata": {},
   "outputs": [
    {
     "data": {
      "text/plain": [
       "20040"
      ]
     },
     "execution_count": 5,
     "metadata": {},
     "output_type": "execute_result"
    }
   ],
   "source": [
    "train_set, test_set = torch.utils.data.random_split(dataset, [0.7,0.3])\n",
    "len(dataset)"
   ]
  },
  {
   "cell_type": "code",
   "execution_count": 6,
   "id": "778f5fdb-d8c1-4f5b-8b88-7da4d1144696",
   "metadata": {},
   "outputs": [],
   "source": [
    "# データローダーの作成\n",
    "train_loader = torch.utils.data.DataLoader(train_set,\n",
    "                                           batch_size=256,  # バッチサイズ\n",
    "                                           shuffle=True,  # データシャッフル\n",
    "                                           num_workers=0,  # 高速化\n",
    "                                           pin_memory=True  # 高速化                                      \n",
    "                                           )\n",
    "test_loader = torch.utils.data.DataLoader(test_set,\n",
    "                                          batch_size=256,\n",
    "                                          shuffle=True,\n",
    "                                          num_workers=0,  # 高速化\n",
    "                                          pin_memory=True  # 高速化                                                   \n",
    "                                          )"
   ]
  },
  {
   "cell_type": "code",
   "execution_count": 7,
   "id": "97bedb9b-4a0c-42e9-bfcd-f9a92ce76324",
   "metadata": {},
   "outputs": [
    {
     "name": "stdout",
     "output_type": "stream",
     "text": [
      "load weight weights/weight_65_100.pth\n"
     ]
    }
   ],
   "source": [
    "# モデル・損失関数・最適化アルゴリスムの設定\n",
    "LOAD_WEIGHT = True\n",
    "# model = RESNETLIKE(channels=2).to(device)\n",
    "model = MyModel(channels=2)\n",
    "#model = MyModel_shallow(channels=2).to(device)\n",
    "weight_file = f\"weights/weight_{PSIZE}_{DEPTH_GAP}.pth\"\n",
    "\n",
    "if LOAD_WEIGHT == True:\n",
    "    # 学習済みモデルのロード\n",
    "    print(\"load weight\", weight_file)\n",
    "    model.load_state_dict(torch.load(weight_file))\n",
    "    model.eval()\n",
    "\n",
    "model = model.to(device)\n",
    "\n",
    "criterion = nn.L1Loss()\n",
    "optimizer = optim.Adam(model.parameters())\n",
    "#optimizer = optim.SGD(model.parameters())"
   ]
  },
  {
   "cell_type": "code",
   "execution_count": 8,
   "id": "8bb9093f-e719-40d6-ac97-d7b68864510a",
   "metadata": {},
   "outputs": [],
   "source": [
    "# モデル訓練関数\n",
    "def train_model(model, train_loader, test_loader):\n",
    "    # Train loop ----------------------------\n",
    "    model.train()  # 学習モードをオン\n",
    "    train_batch_loss = []\n",
    "    for data, val in train_loader:\n",
    "        # GPUへの転送\n",
    "        data, val = data.to(device), val.to(device)\n",
    "        # 1. 勾配リセット\n",
    "        optimizer.zero_grad()\n",
    "        # 2. 推論\n",
    "        output = model(data)\n",
    "        val = val.unsqueeze(1).to(torch.float32)\n",
    "        # 3. 誤差計算\n",
    "        loss = criterion(output, val)\n",
    "        # 4. 誤差逆伝播\n",
    "        loss.backward()\n",
    "        # 5. パラメータ更新\n",
    "        optimizer.step()\n",
    "        # train_lossの取得\n",
    "        train_batch_loss.append(loss.item())\n",
    "\n",
    "    # Test(val) loop ----------------------------\n",
    "    model.eval()  # 学習モードをオフ\n",
    "    test_batch_loss = []\n",
    "    with torch.no_grad():  # 勾配を計算なし\n",
    "        for data, val in test_loader:\n",
    "            data, val = data.to(device), val.to(device)\n",
    "            output = model(data)\n",
    "            val = val.unsqueeze(1).to(torch.float32)\n",
    "            loss = criterion(output, val)\n",
    "            test_batch_loss.append(loss.item())\n",
    "\n",
    "    return model, np.mean(train_batch_loss), np.mean(test_batch_loss)"
   ]
  },
  {
   "cell_type": "code",
   "execution_count": 9,
   "id": "f254e70f-c4ea-4905-aa17-d81055e9031c",
   "metadata": {},
   "outputs": [
    {
     "data": {
      "application/vnd.jupyter.widget-view+json": {
       "model_id": "cb5fda90dbf84b0980601b0a8c3ef883",
       "version_major": 2,
       "version_minor": 0
      },
      "text/plain": [
       "  0%|          | 0/50 [00:00<?, ?it/s]"
      ]
     },
     "metadata": {},
     "output_type": "display_data"
    },
    {
     "name": "stdout",
     "output_type": "stream",
     "text": [
      "Train loss: 2150.895, Test loss: 1591.160\n",
      "Train loss: 1416.572, Test loss: 1143.887\n",
      "Train loss: 1065.218, Test loss: 967.180\n",
      "Train loss: 829.775, Test loss: 861.067\n",
      "Train loss: 693.299, Test loss: 686.463\n",
      "Train loss: 695.759, Test loss: 795.470\n",
      "Train loss: 683.471, Test loss: 719.230\n",
      "Train loss: 562.303, Test loss: 548.154\n",
      "Train loss: 465.562, Test loss: 461.051\n",
      "Train loss: 483.795, Test loss: 465.123\n",
      "Train loss: 426.032, Test loss: 420.848\n",
      "Train loss: 391.530, Test loss: 427.198\n",
      "Train loss: 370.722, Test loss: 375.833\n",
      "Train loss: 351.659, Test loss: 395.177\n",
      "Train loss: 329.508, Test loss: 361.203\n",
      "Train loss: 316.305, Test loss: 374.835\n",
      "Train loss: 347.450, Test loss: 387.773\n",
      "Train loss: 367.792, Test loss: 397.686\n",
      "Train loss: 325.437, Test loss: 387.549\n",
      "Train loss: 319.926, Test loss: 340.109\n",
      "Train loss: 281.034, Test loss: 357.149\n",
      "Train loss: 264.917, Test loss: 340.880\n",
      "Train loss: 300.309, Test loss: 357.778\n",
      "Train loss: 257.931, Test loss: 306.474\n",
      "Train loss: 256.218, Test loss: 291.511\n",
      "Train loss: 230.007, Test loss: 289.478\n",
      "Train loss: 266.594, Test loss: 343.046\n",
      "Train loss: 257.506, Test loss: 363.371\n",
      "Train loss: 270.880, Test loss: 354.073\n",
      "Train loss: 269.272, Test loss: 321.552\n",
      "Train loss: 326.325, Test loss: 371.884\n",
      "Train loss: 289.020, Test loss: 290.978\n",
      "Train loss: 239.989, Test loss: 339.845\n",
      "Train loss: 243.832, Test loss: 256.150\n",
      "Train loss: 216.744, Test loss: 288.785\n",
      "Train loss: 203.959, Test loss: 281.490\n",
      "Train loss: 207.970, Test loss: 271.033\n",
      "Train loss: 207.353, Test loss: 345.208\n",
      "Train loss: 204.961, Test loss: 260.165\n",
      "Train loss: 204.580, Test loss: 276.236\n",
      "Train loss: 199.812, Test loss: 300.518\n",
      "Train loss: 216.035, Test loss: 257.845\n",
      "Train loss: 193.633, Test loss: 258.018\n",
      "Train loss: 198.320, Test loss: 276.551\n",
      "Train loss: 228.516, Test loss: 297.141\n",
      "Train loss: 204.448, Test loss: 253.490\n",
      "Train loss: 200.383, Test loss: 305.320\n",
      "Train loss: 205.276, Test loss: 278.291\n",
      "Train loss: 271.219, Test loss: 366.514\n",
      "Train loss: 212.201, Test loss: 274.624\n",
      "save weight as:  weights/weight_65_100.pth\n"
     ]
    },
    {
     "data": {
      "image/png": "[encoded data removed]",
      "text/plain": [
       "<Figure size 640x480 with 1 Axes>"
      ]
     },
     "metadata": {},
     "output_type": "display_data"
    }
   ],
   "source": [
    "if __name__ == \"__main__\":\n",
    "    # 訓練の実行\n",
    "    epoch = 50\n",
    "    train_loss = []\n",
    "    test_loss = []\n",
    "    \n",
    "    for epoch in tqdm(range(epoch)):\n",
    "        model, train_l, test_l = train_model(model,train_loader,test_loader)\n",
    "        train_loss.append(train_l)\n",
    "        test_loss.append(test_l)    \n",
    "        # 10エポックごとにロスを表示\n",
    "        #if epoch % 5 == 0:\n",
    "        print(f\"Train loss: {train_loss[-1]:.3f}, Test loss: {test_loss[-1]:.3f}\")\n",
    "    \n",
    "    # 学習状況（ロス）の確認\n",
    "    plt.plot(train_loss, label='train_loss')\n",
    "    plt.plot(test_loss, label='test_loss')\n",
    "    plt.legend()\n",
    "\n",
    "    # モデルの保存\n",
    "    print(\"save weight as: \", weight_file)\n",
    "    torch.save(model.state_dict(), weight_file)"
   ]
  },
  {
   "cell_type": "code",
   "execution_count": 12,
   "id": "7c57166c-8ce5-443c-85bf-692fbb694af4",
   "metadata": {},
   "outputs": [
    {
     "name": "stdout",
     "output_type": "stream",
     "text": [
      "locations [[456, 575], [164, 193], [441, 361], [272, 362], [728, 420], [617, 330], [389, 121], [951, 350], [1130, 448], [48, 159], [986, 727], [1430, 211], [1369, 985], [81, 98], [974, 587], [1327, 872], [1386, 594], [1365, 886], [407, 258], [1286, 735], [158, 637], [551, 291], [1183, 722], [977, 227], [888, 108], [509, 181], [244, 372], [955, 714], [1203, 119], [1451, 723], [1000, 978], [1392, 236], [1247, 837], [1115, 123], [450, 252], [118, 919], [549, 560], [1127, 53], [689, 120], [549, 373], [713, 741], [1489, 465], [967, 819], [533, 150], [847, 944], [711, 761], [113, 764], [191, 535], [547, 529], [1138, 104], [1086, 676], [678, 765], [833, 546], [569, 1074], [1278, 171], [227, 620], [1521, 1124], [55, 393], [1425, 907], [1350, 221], [1114, 428], [1512, 960], [902, 1017], [1361, 778], [783, 733], [153, 852], [1247, 908], [1247, 42], [86, 979], [1498, 414], [709, 116], [338, 489], [672, 367], [772, 160], [245, 1025], [551, 433], [1084, 732], [819, 617], [371, 845], [1049, 774], [127, 318], [1037, 963], [1088, 107], [345, 273], [295, 1118], [1343, 1048], [861, 879], [1086, 92], [360, 1083], [548, 950], [103, 984], [346, 870], [101, 1002], [533, 1067], [1112, 1002], [1259, 510], [272, 1085], [1338, 993], [1355, 1000], [520, 608], [635, 202], [715, 516], [907, 229], [955, 48], [1432, 27], [667, 762], [1250, 60], [155, 866], [436, 1096], [401, 526], [446, 253], [1289, 344], [1313, 876], [7, 1004], [270, 922], [362, 144], [1515, 153], [1304, 214], [1209, 191], [949, 995], [559, 236], [547, 796], [248, 161], [687, 287], [595, 489], [1107, 206], [859, 542], [1267, 134], [690, 453], [80, 1112], [822, 1013], [135, 18], [174, 196], [1442, 1086], [114, 527], [467, 557], [731, 494], [51, 640], [845, 683], [629, 1085], [1067, 2], [624, 733], [952, 93], [698, 63], [532, 685], [914, 871], [1155, 258], [516, 464], [724, 277], [13, 114], [899, 303], [389, 506], [97, 63], [30, 714], [96, 597], [441, 156], [208, 275], [1016, 653], [410, 244], [1154, 43], [444, 359], [1247, 648], [1120, 285], [1173, 1063], [437, 146], [65, 906], [1288, 127], [615, 857], [1079, 1074], [1268, 929], [55, 191], [1490, 741], [650, 245], [170, 655], [721, 894], [805, 270], [857, 288], [586, 72], [450, 889], [1192, 534], [391, 569], [1501, 194], [12, 247], [124, 937], [1352, 216], [351, 43], [138, 879], [356, 693], [757, 16], [1411, 216], [160, 63], [109, 660], [652, 556], [496, 611], [926, 1016], [991, 904], [475, 1027], [1442, 317], [1461, 207], [364, 942]]\n"
     ]
    }
   ],
   "source": [
    "# 学習済みモデルから予測結果と正解値を取得\n",
    "def retrieve_result(model, dataloader):\n",
    "    model.eval()\n",
    "    preds = []\n",
    "    labels = []\n",
    "    # Retreive prediction and labels\n",
    "    with torch.no_grad():\n",
    "        for data, label in dataloader:\n",
    "            data, label = data.to(device), label.to(device)\n",
    "            output = model(data)\n",
    "            # Collect data\n",
    "            preds.append(output)\n",
    "            labels.append(label)\n",
    "    # Flatten\n",
    "    preds = torch.cat(preds, axis=0)\n",
    "    labels = torch.cat(labels, axis=0)\n",
    "    # Returns as numpy (CPU環境の場合は不要)\n",
    "    preds = preds.cpu().detach().numpy()\n",
    "    labels = labels.cpu().detach().numpy()\n",
    "    return preds, labels\n",
    "\n",
    "\n",
    "# データを作って評価してみる\n",
    "dataset = FocusPatchDataset(DIR = 'data/202410041747', imsize = [1600,1200], \n",
    "                            psize=PSIZE, channels=2, n_sample=1, \n",
    "                            DEPTH_GAP=DEPTH_GAP, transforms = trans)\n",
    "test_loader = torch.utils.data.DataLoader(dataset, batch_size=256, shuffle=False)\n",
    "preds, labels = retrieve_result(model, test_loader)"
   ]
  },
  {
   "cell_type": "code",
   "execution_count": 14,
   "id": "fb2ca7e9-89c2-4ac7-b26f-74d4e1f40959",
   "metadata": {},
   "outputs": [
    {
     "data": {
      "text/plain": [
       "<matplotlib.legend.Legend at 0x1cf90702ea0>"
      ]
     },
     "execution_count": 14,
     "metadata": {},
     "output_type": "execute_result"
    },
    {
     "data": {
      "image/png": "[encoded data removed]",
      "text/plain": [
       "<Figure size 640x480 with 1 Axes>"
      ]
     },
     "metadata": {},
     "output_type": "display_data"
    }
   ],
   "source": [
    "if __name__ == \"__main__\":\n",
    "    plt.plot(preds, label=\"prediction\")\n",
    "    plt.plot(labels, label='ground truth')\n",
    "    plt.legend()"
   ]
  },
  {
   "cell_type": "code",
   "execution_count": null,
   "id": "f751e122-6027-446f-9312-974abd85e2b7",
   "metadata": {},
   "outputs": [],
   "source": []
  }
 ],
 "metadata": {
  "kernelspec": {
   "display_name": "Python 3 (ipykernel)",
   "language": "python",
   "name": "python3"
  },
  "language_info": {
   "codemirror_mode": {
    "name": "ipython",
    "version": 3
   },
   "file_extension": ".py",
   "mimetype": "text/x-python",
   "name": "python",
   "nbconvert_exporter": "python",
   "pygments_lexer": "ipython3",
   "version": "3.12.6"
  }
 },
 "nbformat": 4,
 "nbformat_minor": 5
}
